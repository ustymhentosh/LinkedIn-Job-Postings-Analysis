{
 "cells": [
  {
   "cell_type": "code",
   "execution_count": 4,
   "metadata": {},
   "outputs": [],
   "source": [
    "import pandas as pd\n",
    "import json"
   ]
  },
  {
   "cell_type": "markdown",
   "metadata": {},
   "source": [
    "### Working Version"
   ]
  },
  {
   "cell_type": "code",
   "execution_count": 18,
   "metadata": {},
   "outputs": [],
   "source": [
    "from tqdm import tqdm"
   ]
  },
  {
   "cell_type": "code",
   "execution_count": 28,
   "metadata": {},
   "outputs": [
    {
     "name": "stderr",
     "output_type": "stream",
     "text": [
      "100%|██████████| 130/130 [42:38<00:00, 19.68s/it]\n"
     ]
    }
   ],
   "source": [
    "tota_rows = 1297332\n",
    "batch_size = 10000\n",
    "\n",
    "def what_edu(text):\n",
    "    text = text.lower()\n",
    "    for i in edu_dct.items():\n",
    "        for j in i[1]:\n",
    "            if text.find(j) != -1:\n",
    "                return i[0]\n",
    "    return \"no_education\"\n",
    "\n",
    "with open(\"./education_dct.json\", \"r\") as f:\n",
    "    edu_dct = json.load(f)\n",
    "\n",
    "result_df = pd.DataFrame({\"job_link\":[], \"edu_req\":[]})\n",
    "\n",
    "for i in tqdm(range(0, tota_rows, batch_size)):\n",
    "    summaries_df = pd.read_csv(\"./data/job_summary.csv\", skiprows = i, nrows = batch_size, names=[\"job_link\", \"job_summary\"])\n",
    "    summaries_df[\"edu_req\"] = summaries_df[\"job_summary\"].apply(what_edu)\n",
    "    \n",
    "    result_df = pd.merge(result_df, summaries_df[[\"job_link\", \"edu_req\"]], how='outer')\n",
    "    \n",
    "\n",
    "result_df.to_csv(\"education_levels.csv\")"
   ]
  },
  {
   "cell_type": "markdown",
   "metadata": {},
   "source": [
    "###  Piece Extracor "
   ]
  },
  {
   "cell_type": "code",
   "execution_count": 29,
   "metadata": {},
   "outputs": [],
   "source": [
    "summaries_df = pd.read_csv(\"./data/job_summary.csv\", nrows=10000)"
   ]
  },
  {
   "cell_type": "code",
   "execution_count": 30,
   "metadata": {},
   "outputs": [],
   "source": [
    "summaries_df.to_csv(\"education_test.csv\")"
   ]
  }
 ],
 "metadata": {
  "kernelspec": {
   "display_name": "Python 3",
   "language": "python",
   "name": "python3"
  },
  "language_info": {
   "codemirror_mode": {
    "name": "ipython",
    "version": 3
   },
   "file_extension": ".py",
   "mimetype": "text/x-python",
   "name": "python",
   "nbconvert_exporter": "python",
   "pygments_lexer": "ipython3",
   "version": "3.12.3"
  }
 },
 "nbformat": 4,
 "nbformat_minor": 2
}
